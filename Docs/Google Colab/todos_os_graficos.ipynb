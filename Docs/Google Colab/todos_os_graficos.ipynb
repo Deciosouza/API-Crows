{
 "cells": [
  {
   "cell_type": "code",
   "execution_count": 1,
   "metadata": {},
   "outputs": [],
   "source": [
    "# imports, dados e dataframes\n",
    "\n",
    "import pandas as pd\n",
    "import numpy as np\n",
    "import matplotlib.pyplot as plt\n",
    "\n",
    "mun = 'https://balanca.economia.gov.br/balanca/bd/tabelas/UF_MUN.csv'\n",
    "sh4 = 'https://balanca.economia.gov.br/balanca/bd/tabelas/NCM_SH.csv'\n",
    "pais = 'https://balanca.economia.gov.br/balanca/bd/tabelas/PAIS.csv'\n",
    "\n",
    "df_mun = pd.read_csv(mun, sep=\";\", encoding=\"latin1\")\n",
    "df_sh4 = pd.read_csv(sh4, sep=\";\", encoding=\"latin1\")\n",
    "df_pais = pd.read_csv(pais, sep=\";\", encoding=\"latin1\")\n"
   ]
  },
  {
   "cell_type": "code",
   "execution_count": null,
   "metadata": {},
   "outputs": [],
   "source": [
    "# TOP 10 MUNICIPIOS POR TOTAL KG DE EXPORTAÇÃO\n",
    "\n",
    "for year in range(2019,2025):\n",
    "    url = f'https://balanca.economia.gov.br/balanca/bd/comexstat-bd/mun/EXP_{year}_MUN.csv'\n",
    "    df = pd.read_csv(url, sep=\";\", encoding=\"latin1\")\n",
    "\n",
    "\n",
    "    # RENOMEAR PARA SER COMPATIVEL COM BASE MUN\n",
    "    df_mun = df_mun.rename(columns={\"CO_MUN_GEO\": \"CO_MUN\"})\n",
    "\n",
    "    # APENAS ESTADO DE SP // MESCLAR COM A TABELA DE MUN PARA PEGAR OS NOMES\n",
    "    df_mun_sp = df[df[\"SG_UF_MUN\"] == \"SP\"]\n",
    "    df_mun_sp = pd.merge(df_mun_sp, df_mun[['CO_MUN', 'NO_MUN']], on='CO_MUN', how='left')\n",
    "\n",
    "    # SOMA DO TOTAL DE KG_LIQUIDO POR MUNICÍPIO\n",
    "    kg_total_por_mun = df_mun_sp.groupby(\"NO_MUN\")[\"KG_LIQUIDO\"].sum().reset_index()\n",
    "    kg_total_por_mun = kg_total_por_mun.rename(columns={\"KG_LIQUIDO\": \"TOTAL_KG_LIQUIDO\"}) # renomeado para melhor compreensão\n",
    "\n",
    "\n",
    "    kg_total_por_mun = pd.merge(kg_total_por_mun, df_mun[['CO_MUN', 'NO_MUN']], on='NO_MUN', how='left')\n",
    "    municipios_top10 = kg_total_por_mun.sort_values(by=\"TOTAL_KG_LIQUIDO\", ascending=False).head(11)\n",
    "\n",
    "    # grafico\n",
    "    plt.figure(figsize=(12, 6))\n",
    "    plt.bar(municipios_top10['NO_MUN'], municipios_top10['TOTAL_KG_LIQUIDO'])\n",
    "\n",
    "    # Customize the plot\n",
    "    plt.title(f'Total por Kg Líquido por município de SP no ano de {year}', fontsize=14)\n",
    "    plt.xlabel('Município', fontsize=12)\n",
    "    plt.ylabel('Total em Kg', fontsize=12)\n",
    "    plt.xticks(rotation=45, ha='right')  # Rotate x-axis labels for better readability\n",
    "    plt.tight_layout()\n",
    "\n",
    "    # Show the plot\n",
    "    plt.show()\n",
    "\n",
    "    print(municipios_top10)\n"
   ]
  }
 ],
 "metadata": {
  "kernelspec": {
   "display_name": ".venv",
   "language": "python",
   "name": "python3"
  },
  "language_info": {
   "codemirror_mode": {
    "name": "ipython",
    "version": 3
   },
   "file_extension": ".py",
   "mimetype": "text/x-python",
   "name": "python",
   "nbconvert_exporter": "python",
   "pygments_lexer": "ipython3",
   "version": "3.12.3"
  }
 },
 "nbformat": 4,
 "nbformat_minor": 2
}
