{
  "nbformat": 4,
  "nbformat_minor": 0,
  "metadata": {
    "colab": {
      "provenance": [],
      "authorship_tag": "ABX9TyOVoy2w4U1ZHSc8jyMQdoIS",
      "include_colab_link": true
    },
    "kernelspec": {
      "name": "python3",
      "display_name": "Python 3"
    },
    "language_info": {
      "name": "python"
    }
  },
  "cells": [
    {
      "cell_type": "markdown",
      "metadata": {
        "id": "view-in-github",
        "colab_type": "text"
      },
      "source": [
        "<a href=\"https://colab.research.google.com/github/arthur-oliver/API-Crows/blob/main/docs/google-colab/API.ipynb\" target=\"_parent\"><img src=\"https://colab.research.google.com/assets/colab-badge.svg\" alt=\"Open In Colab\"/></a>"
      ]
    },
    {
      "cell_type": "markdown",
      "source": [
        "#O Google Colab não consegue disponibilizar o acesso ao site diretamente, então para usar essa aplicação efetue login no ngrok, que é responsavel por disponibilizar essa conexão:"
      ],
      "metadata": {
        "id": "vZ5KAcRfFYhR"
      }
    },
    {
      "cell_type": "markdown",
      "source": [
        "https://dashboard.ngrok.com/login\n",
        "\n",
        "Após criar a conta acesse a guia de Authtoken copie seu token:\n",
        "o link da guia: https://dashboard.ngrok.com/get-started/your-authtoken\n",
        "\n",
        " e cole aqui entre aspas no código abaixo:"
      ],
      "metadata": {
        "id": "hTLOGVFnFbZZ"
      }
    },
    {
      "cell_type": "code",
      "source": [
        "token = '2xbt1a2b3c4d5e6f7g8h9i0jklmnopqrstuvwx9yzABCD'"
      ],
      "metadata": {
        "id": "qAAfCXraFeo6"
      },
      "execution_count": null,
      "outputs": []
    },
    {
      "cell_type": "code",
      "source": [
        "%%capture\n",
        "!rm -rf API-Crows\n",
        "%ls\n",
        "!git clone https://github.com/arthur-oliver/API-Crows.git\n",
        "%cd API-Crows/src/\n",
        "%ls\n",
        "!pip install -r requirements.txt\n",
        "!pip install flask pyngrok\n",
        "!ngrok authtoken {token}"
      ],
      "metadata": {
        "id": "cogrkj80XRYP"
      },
      "execution_count": null,
      "outputs": []
    },
    {
      "cell_type": "code",
      "source": [
        "from pyngrok import ngrok\n",
        "ngrok.kill()\n",
        "import subprocess\n",
        "import time\n",
        "subprocess.Popen(['python', 'App.py'])\n",
        "time.sleep(10)\n",
        "public_url = ngrok.connect(5000)\n",
        "print(f\"Acesse: {public_url}\")"
      ],
      "metadata": {
        "colab": {
          "base_uri": "https://localhost:8080/"
        },
        "id": "Ds9vwR-8Yqlp",
        "outputId": "84eb4d78-c0ea-4757-d3a5-914a6b73182c"
      },
      "execution_count": null,
      "outputs": [
        {
          "output_type": "stream",
          "name": "stdout",
          "text": [
            "Acesse: NgrokTunnel: \"https://a917-104-196-203-23.ngrok-free.app\" -> \"http://localhost:5000\"\n"
          ]
        }
      ]
    }
  ]
}